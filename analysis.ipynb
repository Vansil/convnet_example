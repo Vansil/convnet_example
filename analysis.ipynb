{
 "cells": [
  {
   "cell_type": "markdown",
   "metadata": {},
   "source": [
    "# Example ConvNet project\n",
    "\n",
    "With filenames and correlation labels in `responses.csv`, and images in `images/`, this notebook trains a simple convnet model that predicts these correlation labels. The module `data` contains classes to read and preprocess the data. The module `model` contains the simple convnet used here."
   ]
  },
  {
   "cell_type": "code",
   "execution_count": 1,
   "metadata": {},
   "outputs": [],
   "source": [
    "import pandas as pd\n",
    "import os\n",
    "from tqdm.notebook import tqdm\n",
    "import numpy as np\n",
    "import matplotlib.pyplot as plt\n",
    "import seaborn as sns\n",
    "from collections import defaultdict\n",
    "\n",
    "import torch\n",
    "from torch.utils.data import DataLoader\n",
    "import torch.optim as optim\n",
    "import torch.nn as nn\n",
    "\n",
    "from data import TrainTestSplitter, CorrelationDataset, CorrelationTransform\n",
    "from model import CorrelationNet"
   ]
  },
  {
   "cell_type": "code",
   "execution_count": 2,
   "metadata": {},
   "outputs": [],
   "source": [
    "# Load labels\n",
    "labels = pd.read_csv('responses.csv')\n",
    "# Check if all files are available\n",
    "assert set(labels.id) == set([fn[:-4] for fn in os.listdir('images')]), \"File id's in responses.csv do not correspond to files in images/\""
   ]
  },
  {
   "cell_type": "markdown",
   "metadata": {},
   "source": [
    "### Preprocessing"
   ]
  },
  {
   "cell_type": "code",
   "execution_count": 3,
   "metadata": {},
   "outputs": [],
   "source": [
    "FILE_RESPONSES = 'responses.csv'\n",
    "DIR_IMG = 'images'\n",
    "\n",
    "# Splitter for train/test split\n",
    "train_test_splitter = TrainTestSplitter(\n",
    "    test_ratio=0.2,\n",
    "    seed=42\n",
    ")\n",
    "# Create data loaders for train and test data\n",
    "train_dataset = CorrelationDataset(\n",
    "    FILE_RESPONSES,\n",
    "    DIR_IMG,\n",
    "    train_test_splitter,\n",
    "    train=True,\n",
    "    transform=CorrelationTransform(True)\n",
    ")\n",
    "test_dataset = CorrelationDataset(\n",
    "    FILE_RESPONSES,\n",
    "    DIR_IMG,\n",
    "    train_test_splitter,\n",
    "    train=False,\n",
    "    transform=CorrelationTransform(False)\n",
    ")\n",
    "train_dataloader = DataLoader(\n",
    "    train_dataset, \n",
    "    batch_size=64, \n",
    "    shuffle=True,\n",
    "    num_workers=10\n",
    ")\n",
    "test_dataloader = DataLoader(\n",
    "    test_dataset, \n",
    "    batch_size=64, \n",
    "    shuffle=True,\n",
    "    num_workers=10\n",
    ")"
   ]
  },
  {
   "cell_type": "code",
   "execution_count": 4,
   "metadata": {},
   "outputs": [
    {
     "data": {
      "image/png": "[encoded data removed]",
      "text/plain": [
       "<Figure size 648x216 with 3 Axes>"
      ]
     },
     "metadata": {
      "needs_background": "light"
     },
     "output_type": "display_data"
    }
   ],
   "source": [
    "train_features, train_labels = next(iter(train_dataloader))\n",
    "fig, axes = plt.subplots(figsize=(9,3), ncols=3)\n",
    "for i in range(3):\n",
    "    axes[i].imshow(train_features[i].permute((1,2,0)))\n",
    "    axes[i].set_title('Corr={:.2f}'.format(train_labels[i]))\n",
    "plt.show()"
   ]
  },
  {
   "cell_type": "markdown",
   "metadata": {},
   "source": [
    "### Training"
   ]
  },
  {
   "cell_type": "code",
   "execution_count": 5,
   "metadata": {},
   "outputs": [
    {
     "name": "stdout",
     "output_type": "stream",
     "text": [
      "CorrelationNet(\n",
      "  (model): Sequential(\n",
      "    (0): Conv2d(3, 20, kernel_size=(5, 5), stride=(1, 1), padding=(2, 2))\n",
      "    (1): ReLU()\n",
      "    (2): MaxPool2d(kernel_size=2, stride=2, padding=0, dilation=1, ceil_mode=False)\n",
      "    (3): Conv2d(20, 20, kernel_size=(5, 5), stride=(1, 1), padding=(2, 2))\n",
      "    (4): ReLU()\n",
      "    (5): MaxPool2d(kernel_size=2, stride=2, padding=0, dilation=1, ceil_mode=False)\n",
      "    (6): Conv2d(20, 10, kernel_size=(3, 3), stride=(1, 1), padding=(1, 1))\n",
      "    (7): ReLU()\n",
      "    (8): MaxPool2d(kernel_size=2, stride=2, padding=0, dilation=1, ceil_mode=False)\n",
      "    (9): Flatten(start_dim=1, end_dim=-1)\n",
      "    (10): Linear(in_features=160, out_features=64, bias=True)\n",
      "    (11): ReLU()\n",
      "    (12): Linear(in_features=64, out_features=16, bias=True)\n",
      "    (13): ReLU()\n",
      "    (14): Linear(in_features=16, out_features=1, bias=True)\n",
      "    (15): Tanh()\n",
      "  )\n",
      ")\n",
      "Number of params: 24711\n"
     ]
    }
   ],
   "source": [
    "net = CorrelationNet()\n",
    "\n",
    "print(net)\n",
    "print(\"Number of params: {}\".format(\n",
    "    sum([np.product(p.shape) for p in net.parameters()])\n",
    "))"
   ]
  },
  {
   "cell_type": "code",
   "execution_count": 6,
   "metadata": {},
   "outputs": [],
   "source": [
    "criterion = nn.MSELoss()\n",
    "optimizer = optim.SGD(net.parameters(), lr=0.001, momentum=0.9)"
   ]
  },
  {
   "cell_type": "code",
   "execution_count": 7,
   "metadata": {},
   "outputs": [
    {
     "data": {
      "application/vnd.jupyter.widget-view+json": {
       "model_id": "a4247df58fd245889762816e3122d301",
       "version_major": 2,
       "version_minor": 0
      },
      "text/plain": [
       "  0%|          | 0/469 [00:00<?, ?it/s]"
      ]
     },
     "metadata": {},
     "output_type": "display_data"
    },
    {
     "name": "stdout",
     "output_type": "stream",
     "text": [
      "Test MSE: 0.25001323223114014\n"
     ]
    }
   ],
   "source": [
    "# Performance before training\n",
    "def evaluate(net, dataloader, criterion):\n",
    "    losses = []\n",
    "    with torch.no_grad():\n",
    "        for data in tqdm(dataloader, leave=False):\n",
    "            images, labels = data\n",
    "            # calculate outputs by running images through the network\n",
    "            outputs = net(images)\n",
    "            # the class with the highest energy is what we choose as prediction\n",
    "            losses.append(criterion(outputs, labels.view(-1,1)))\n",
    "    return np.mean(losses)\n",
    "\n",
    "print(\"Test MSE: {}\".format(\n",
    "    evaluate(net, test_dataloader, criterion)\n",
    "))"
   ]
  },
  {
   "cell_type": "code",
   "execution_count": 8,
   "metadata": {},
   "outputs": [
    {
     "data": {
      "application/vnd.jupyter.widget-view+json": {
       "model_id": "340db5986fbb4a24935e9ab7e49110c5",
       "version_major": 2,
       "version_minor": 0
      },
      "text/plain": [
       "  0%|          | 0/469 [00:00<?, ?it/s]"
      ]
     },
     "metadata": {},
     "output_type": "display_data"
    },
    {
     "name": "stdout",
     "output_type": "stream",
     "text": [
      "[00       ] Test MSE: 0.250\n"
     ]
    },
    {
     "data": {
      "application/vnd.jupyter.widget-view+json": {
       "model_id": "b804d498de944ce8841b6214a7abfc85",
       "version_major": 2,
       "version_minor": 0
      },
      "text/plain": [
       "  0%|          | 0/20 [00:00<?, ?it/s]"
      ]
     },
     "metadata": {},
     "output_type": "display_data"
    },
    {
     "data": {
      "application/vnd.jupyter.widget-view+json": {
       "model_id": "1aa9bfea52b44a6a98ee2e3f370a4504",
       "version_major": 2,
       "version_minor": 0
      },
      "text/plain": [
       "  0%|          | 0/1875 [00:00<?, ?it/s]"
      ]
     },
     "metadata": {},
     "output_type": "display_data"
    },
    {
     "name": "stderr",
     "output_type": "stream",
     "text": [
      "/home/silvan/anaconda3/envs/torch/lib/python3.8/site-packages/torch/autograd/__init__.py:130: UserWarning: CUDA initialization: CUDA unknown error - this may be due to an incorrectly set up environment, e.g. changing env variable CUDA_VISIBLE_DEVICES after program start. Setting the available devices to be zero. (Triggered internally at  /opt/conda/conda-bld/pytorch_1603729096996/work/c10/cuda/CUDAFunctions.cpp:100.)\n",
      "  Variable._execution_engine.run_backward(\n"
     ]
    },
    {
     "name": "stdout",
     "output_type": "stream",
     "text": [
      "[ 1,   200] Train batch MSE: 0.210\n",
      "[ 1,   400] Train batch MSE: 0.219\n",
      "[ 1,   600] Train batch MSE: 0.221\n",
      "[ 1,   800] Train batch MSE: 0.219\n",
      "[ 1,  1000] Train batch MSE: 0.195\n",
      "[ 1,  1200] Train batch MSE: 0.204\n",
      "[ 1,  1400] Train batch MSE: 0.200\n",
      "[ 1,  1600] Train batch MSE: 0.204\n",
      "[ 1,  1800] Train batch MSE: 0.221\n"
     ]
    },
    {
     "data": {
      "application/vnd.jupyter.widget-view+json": {
       "model_id": "fa17be60569d4e49a06cd0cab6e298fa",
       "version_major": 2,
       "version_minor": 0
      },
      "text/plain": [
       "  0%|          | 0/469 [00:00<?, ?it/s]"
      ]
     },
     "metadata": {},
     "output_type": "display_data"
    },
    {
     "name": "stdout",
     "output_type": "stream",
     "text": [
      "[ 1       ] Test MSE: 0.179\n"
     ]
    },
    {
     "data": {
      "application/vnd.jupyter.widget-view+json": {
       "model_id": "0f84b6a87ab14020a67db00c9984608e",
       "version_major": 2,
       "version_minor": 0
      },
      "text/plain": [
       "  0%|          | 0/1875 [00:00<?, ?it/s]"
      ]
     },
     "metadata": {},
     "output_type": "display_data"
    },
    {
     "name": "stdout",
     "output_type": "stream",
     "text": [
      "[ 2,   200] Train batch MSE: 0.159\n",
      "[ 2,   400] Train batch MSE: 0.024\n",
      "[ 2,   600] Train batch MSE: 0.021\n",
      "[ 2,   800] Train batch MSE: 0.015\n",
      "[ 2,  1000] Train batch MSE: 0.015\n",
      "[ 2,  1200] Train batch MSE: 0.011\n",
      "[ 2,  1400] Train batch MSE: 0.017\n",
      "[ 2,  1600] Train batch MSE: 0.018\n",
      "[ 2,  1800] Train batch MSE: 0.011\n"
     ]
    },
    {
     "data": {
      "application/vnd.jupyter.widget-view+json": {
       "model_id": "ca38e524058b4fcdb6901e4fa110a062",
       "version_major": 2,
       "version_minor": 0
      },
      "text/plain": [
       "  0%|          | 0/469 [00:00<?, ?it/s]"
      ]
     },
     "metadata": {},
     "output_type": "display_data"
    },
    {
     "name": "stdout",
     "output_type": "stream",
     "text": [
      "[ 2       ] Test MSE: 0.013\n"
     ]
    },
    {
     "data": {
      "application/vnd.jupyter.widget-view+json": {
       "model_id": "12db05d486284a0498271a9acc88e6d0",
       "version_major": 2,
       "version_minor": 0
      },
      "text/plain": [
       "  0%|          | 0/1875 [00:00<?, ?it/s]"
      ]
     },
     "metadata": {},
     "output_type": "display_data"
    },
    {
     "name": "stdout",
     "output_type": "stream",
     "text": [
      "[ 3,   200] Train batch MSE: 0.016\n",
      "[ 3,   400] Train batch MSE: 0.012\n",
      "[ 3,   600] Train batch MSE: 0.009\n",
      "[ 3,   800] Train batch MSE: 0.010\n",
      "[ 3,  1000] Train batch MSE: 0.011\n",
      "[ 3,  1200] Train batch MSE: 0.010\n",
      "[ 3,  1400] Train batch MSE: 0.010\n",
      "[ 3,  1600] Train batch MSE: 0.008\n",
      "[ 3,  1800] Train batch MSE: 0.007\n"
     ]
    },
    {
     "data": {
      "application/vnd.jupyter.widget-view+json": {
       "model_id": "a0d7a1d867024ef38c51dfbd343bb793",
       "version_major": 2,
       "version_minor": 0
      },
      "text/plain": [
       "  0%|          | 0/469 [00:00<?, ?it/s]"
      ]
     },
     "metadata": {},
     "output_type": "display_data"
    },
    {
     "name": "stdout",
     "output_type": "stream",
     "text": [
      "[ 3       ] Test MSE: 0.009\n"
     ]
    },
    {
     "data": {
      "application/vnd.jupyter.widget-view+json": {
       "model_id": "18a1f3b7a55f435bafd4e5c2b28d83b8",
       "version_major": 2,
       "version_minor": 0
      },
      "text/plain": [
       "  0%|          | 0/1875 [00:00<?, ?it/s]"
      ]
     },
     "metadata": {},
     "output_type": "display_data"
    },
    {
     "name": "stdout",
     "output_type": "stream",
     "text": [
      "[ 4,   200] Train batch MSE: 0.011\n",
      "[ 4,   400] Train batch MSE: 0.009\n",
      "[ 4,   600] Train batch MSE: 0.009\n",
      "[ 4,   800] Train batch MSE: 0.008\n",
      "[ 4,  1000] Train batch MSE: 0.009\n",
      "[ 4,  1200] Train batch MSE: 0.007\n",
      "[ 4,  1400] Train batch MSE: 0.008\n",
      "[ 4,  1600] Train batch MSE: 0.007\n",
      "[ 4,  1800] Train batch MSE: 0.007\n"
     ]
    },
    {
     "data": {
      "application/vnd.jupyter.widget-view+json": {
       "model_id": "fcca9acf993b4fe294477fd9bcbe5ede",
       "version_major": 2,
       "version_minor": 0
      },
      "text/plain": [
       "  0%|          | 0/469 [00:00<?, ?it/s]"
      ]
     },
     "metadata": {},
     "output_type": "display_data"
    },
    {
     "name": "stdout",
     "output_type": "stream",
     "text": [
      "[ 4       ] Test MSE: 0.007\n"
     ]
    },
    {
     "data": {
      "application/vnd.jupyter.widget-view+json": {
       "model_id": "2333d222448d491ea807293ae1b1f73f",
       "version_major": 2,
       "version_minor": 0
      },
      "text/plain": [
       "  0%|          | 0/1875 [00:00<?, ?it/s]"
      ]
     },
     "metadata": {},
     "output_type": "display_data"
    },
    {
     "name": "stdout",
     "output_type": "stream",
     "text": [
      "[ 5,   200] Train batch MSE: 0.004\n",
      "[ 5,   400] Train batch MSE: 0.005\n",
      "[ 5,   600] Train batch MSE: 0.008\n",
      "[ 5,   800] Train batch MSE: 0.008\n",
      "[ 5,  1000] Train batch MSE: 0.005\n",
      "[ 5,  1200] Train batch MSE: 0.005\n",
      "[ 5,  1400] Train batch MSE: 0.005\n",
      "[ 5,  1600] Train batch MSE: 0.006\n",
      "[ 5,  1800] Train batch MSE: 0.006\n"
     ]
    },
    {
     "data": {
      "application/vnd.jupyter.widget-view+json": {
       "model_id": "baa0fb6896b9436786cc058cffc5e1fb",
       "version_major": 2,
       "version_minor": 0
      },
      "text/plain": [
       "  0%|          | 0/469 [00:00<?, ?it/s]"
      ]
     },
     "metadata": {},
     "output_type": "display_data"
    },
    {
     "name": "stdout",
     "output_type": "stream",
     "text": [
      "[ 5       ] Test MSE: 0.006\n"
     ]
    },
    {
     "data": {
      "application/vnd.jupyter.widget-view+json": {
       "model_id": "c5e76717f84e4c25822b069a2583c23a",
       "version_major": 2,
       "version_minor": 0
      },
      "text/plain": [
       "  0%|          | 0/1875 [00:00<?, ?it/s]"
      ]
     },
     "metadata": {},
     "output_type": "display_data"
    },
    {
     "name": "stdout",
     "output_type": "stream",
     "text": [
      "[ 6,   200] Train batch MSE: 0.006\n",
      "[ 6,   400] Train batch MSE: 0.005\n",
      "[ 6,   600] Train batch MSE: 0.004\n",
      "[ 6,   800] Train batch MSE: 0.007\n",
      "[ 6,  1000] Train batch MSE: 0.004\n",
      "[ 6,  1200] Train batch MSE: 0.006\n",
      "[ 6,  1400] Train batch MSE: 0.005\n",
      "[ 6,  1600] Train batch MSE: 0.004\n",
      "[ 6,  1800] Train batch MSE: 0.005\n"
     ]
    },
    {
     "data": {
      "application/vnd.jupyter.widget-view+json": {
       "model_id": "f063871f997e48d08bc44f0bb5330e6c",
       "version_major": 2,
       "version_minor": 0
      },
      "text/plain": [
       "  0%|          | 0/469 [00:00<?, ?it/s]"
      ]
     },
     "metadata": {},
     "output_type": "display_data"
    },
    {
     "name": "stdout",
     "output_type": "stream",
     "text": [
      "[ 6       ] Test MSE: 0.004\n"
     ]
    },
    {
     "data": {
      "application/vnd.jupyter.widget-view+json": {
       "model_id": "da5bd1fad55b45c98bb4c6fbd087ec70",
       "version_major": 2,
       "version_minor": 0
      },
      "text/plain": [
       "  0%|          | 0/1875 [00:00<?, ?it/s]"
      ]
     },
     "metadata": {},
     "output_type": "display_data"
    },
    {
     "name": "stdout",
     "output_type": "stream",
     "text": [
      "[ 7,   200] Train batch MSE: 0.005\n",
      "[ 7,   400] Train batch MSE: 0.004\n",
      "[ 7,   600] Train batch MSE: 0.004\n",
      "[ 7,   800] Train batch MSE: 0.003\n",
      "[ 7,  1000] Train batch MSE: 0.004\n",
      "[ 7,  1200] Train batch MSE: 0.007\n",
      "[ 7,  1400] Train batch MSE: 0.003\n",
      "[ 7,  1600] Train batch MSE: 0.004\n",
      "[ 7,  1800] Train batch MSE: 0.003\n"
     ]
    },
    {
     "data": {
      "application/vnd.jupyter.widget-view+json": {
       "model_id": "5c103abd9e79415fbd116a6b50e362eb",
       "version_major": 2,
       "version_minor": 0
      },
      "text/plain": [
       "  0%|          | 0/469 [00:00<?, ?it/s]"
      ]
     },
     "metadata": {},
     "output_type": "display_data"
    },
    {
     "name": "stdout",
     "output_type": "stream",
     "text": [
      "[ 7       ] Test MSE: 0.004\n"
     ]
    },
    {
     "data": {
      "application/vnd.jupyter.widget-view+json": {
       "model_id": "ee9f083bf6dc4d2fabcbceff30e061d1",
       "version_major": 2,
       "version_minor": 0
      },
      "text/plain": [
       "  0%|          | 0/1875 [00:00<?, ?it/s]"
      ]
     },
     "metadata": {},
     "output_type": "display_data"
    },
    {
     "name": "stdout",
     "output_type": "stream",
     "text": [
      "[ 8,   200] Train batch MSE: 0.004\n",
      "[ 8,   400] Train batch MSE: 0.004\n",
      "[ 8,   600] Train batch MSE: 0.003\n",
      "[ 8,   800] Train batch MSE: 0.005\n",
      "[ 8,  1000] Train batch MSE: 0.003\n",
      "[ 8,  1200] Train batch MSE: 0.003\n",
      "[ 8,  1400] Train batch MSE: 0.004\n",
      "[ 8,  1600] Train batch MSE: 0.003\n",
      "[ 8,  1800] Train batch MSE: 0.006\n"
     ]
    },
    {
     "data": {
      "application/vnd.jupyter.widget-view+json": {
       "model_id": "c0ad7dd65a8643e3be525cd0ce6b5c65",
       "version_major": 2,
       "version_minor": 0
      },
      "text/plain": [
       "  0%|          | 0/469 [00:00<?, ?it/s]"
      ]
     },
     "metadata": {},
     "output_type": "display_data"
    },
    {
     "name": "stdout",
     "output_type": "stream",
     "text": [
      "[ 8       ] Test MSE: 0.004\n"
     ]
    },
    {
     "data": {
      "application/vnd.jupyter.widget-view+json": {
       "model_id": "912fb455f33b47f1bd1f7ea85d574805",
       "version_major": 2,
       "version_minor": 0
      },
      "text/plain": [
       "  0%|          | 0/1875 [00:00<?, ?it/s]"
      ]
     },
     "metadata": {},
     "output_type": "display_data"
    },
    {
     "name": "stdout",
     "output_type": "stream",
     "text": [
      "[ 9,   200] Train batch MSE: 0.004\n",
      "[ 9,   400] Train batch MSE: 0.005\n",
      "[ 9,   600] Train batch MSE: 0.003\n",
      "[ 9,   800] Train batch MSE: 0.003\n",
      "[ 9,  1000] Train batch MSE: 0.004\n",
      "[ 9,  1200] Train batch MSE: 0.004\n",
      "[ 9,  1400] Train batch MSE: 0.002\n",
      "[ 9,  1600] Train batch MSE: 0.003\n",
      "[ 9,  1800] Train batch MSE: 0.003\n"
     ]
    },
    {
     "data": {
      "application/vnd.jupyter.widget-view+json": {
       "model_id": "a38a3c476f844028baa3ad88df777cdd",
       "version_major": 2,
       "version_minor": 0
      },
      "text/plain": [
       "  0%|          | 0/469 [00:00<?, ?it/s]"
      ]
     },
     "metadata": {},
     "output_type": "display_data"
    },
    {
     "name": "stdout",
     "output_type": "stream",
     "text": [
      "[ 9       ] Test MSE: 0.003\n"
     ]
    },
    {
     "data": {
      "application/vnd.jupyter.widget-view+json": {
       "model_id": "6630f7aed05e46b39a828f76111fb244",
       "version_major": 2,
       "version_minor": 0
      },
      "text/plain": [
       "  0%|          | 0/1875 [00:00<?, ?it/s]"
      ]
     },
     "metadata": {},
     "output_type": "display_data"
    },
    {
     "name": "stdout",
     "output_type": "stream",
     "text": [
      "[10,   200] Train batch MSE: 0.003\n",
      "[10,   400] Train batch MSE: 0.003\n",
      "[10,   600] Train batch MSE: 0.003\n",
      "[10,   800] Train batch MSE: 0.003\n",
      "[10,  1000] Train batch MSE: 0.002\n",
      "[10,  1200] Train batch MSE: 0.004\n",
      "[10,  1400] Train batch MSE: 0.003\n",
      "[10,  1600] Train batch MSE: 0.002\n",
      "[10,  1800] Train batch MSE: 0.003\n"
     ]
    },
    {
     "data": {
      "application/vnd.jupyter.widget-view+json": {
       "model_id": "539255f2cde844a9ba17802b92f103de",
       "version_major": 2,
       "version_minor": 0
      },
      "text/plain": [
       "  0%|          | 0/469 [00:00<?, ?it/s]"
      ]
     },
     "metadata": {},
     "output_type": "display_data"
    },
    {
     "name": "stdout",
     "output_type": "stream",
     "text": [
      "[10       ] Test MSE: 0.003\n"
     ]
    },
    {
     "data": {
      "application/vnd.jupyter.widget-view+json": {
       "model_id": "c56113f5876c40efa04b49f53cf956cc",
       "version_major": 2,
       "version_minor": 0
      },
      "text/plain": [
       "  0%|          | 0/1875 [00:00<?, ?it/s]"
      ]
     },
     "metadata": {},
     "output_type": "display_data"
    },
    {
     "name": "stdout",
     "output_type": "stream",
     "text": [
      "[11,   200] Train batch MSE: 0.003\n",
      "[11,   400] Train batch MSE: 0.002\n",
      "[11,   600] Train batch MSE: 0.003\n",
      "[11,   800] Train batch MSE: 0.004\n",
      "[11,  1000] Train batch MSE: 0.004\n",
      "[11,  1200] Train batch MSE: 0.002\n",
      "[11,  1400] Train batch MSE: 0.003\n",
      "[11,  1600] Train batch MSE: 0.003\n",
      "[11,  1800] Train batch MSE: 0.005\n"
     ]
    },
    {
     "data": {
      "application/vnd.jupyter.widget-view+json": {
       "model_id": "5a1f0d58bd0148068cfa9a5b41a1b7a6",
       "version_major": 2,
       "version_minor": 0
      },
      "text/plain": [
       "  0%|          | 0/469 [00:00<?, ?it/s]"
      ]
     },
     "metadata": {},
     "output_type": "display_data"
    },
    {
     "name": "stdout",
     "output_type": "stream",
     "text": [
      "[11       ] Test MSE: 0.003\n"
     ]
    },
    {
     "data": {
      "application/vnd.jupyter.widget-view+json": {
       "model_id": "41b374dff32640bcb3b3f13953bc5dfb",
       "version_major": 2,
       "version_minor": 0
      },
      "text/plain": [
       "  0%|          | 0/1875 [00:00<?, ?it/s]"
      ]
     },
     "metadata": {},
     "output_type": "display_data"
    },
    {
     "name": "stdout",
     "output_type": "stream",
     "text": [
      "[12,   200] Train batch MSE: 0.002\n",
      "[12,   400] Train batch MSE: 0.003\n",
      "[12,   600] Train batch MSE: 0.003\n",
      "[12,   800] Train batch MSE: 0.003\n",
      "[12,  1000] Train batch MSE: 0.004\n",
      "[12,  1200] Train batch MSE: 0.002\n",
      "[12,  1400] Train batch MSE: 0.002\n",
      "[12,  1600] Train batch MSE: 0.003\n",
      "[12,  1800] Train batch MSE: 0.002\n"
     ]
    },
    {
     "data": {
      "application/vnd.jupyter.widget-view+json": {
       "model_id": "aa40298372ac4d8e8f6cb21f33328ee7",
       "version_major": 2,
       "version_minor": 0
      },
      "text/plain": [
       "  0%|          | 0/469 [00:00<?, ?it/s]"
      ]
     },
     "metadata": {},
     "output_type": "display_data"
    },
    {
     "name": "stdout",
     "output_type": "stream",
     "text": [
      "[12       ] Test MSE: 0.003\n"
     ]
    },
    {
     "data": {
      "application/vnd.jupyter.widget-view+json": {
       "model_id": "75846b7a63b0419885fa6cf140143c9d",
       "version_major": 2,
       "version_minor": 0
      },
      "text/plain": [
       "  0%|          | 0/1875 [00:00<?, ?it/s]"
      ]
     },
     "metadata": {},
     "output_type": "display_data"
    },
    {
     "name": "stdout",
     "output_type": "stream",
     "text": [
      "[13,   200] Train batch MSE: 0.003\n",
      "[13,   400] Train batch MSE: 0.002\n",
      "[13,   600] Train batch MSE: 0.002\n",
      "[13,   800] Train batch MSE: 0.002\n",
      "[13,  1000] Train batch MSE: 0.003\n",
      "[13,  1200] Train batch MSE: 0.004\n",
      "[13,  1400] Train batch MSE: 0.002\n",
      "[13,  1600] Train batch MSE: 0.003\n",
      "[13,  1800] Train batch MSE: 0.002\n"
     ]
    },
    {
     "data": {
      "application/vnd.jupyter.widget-view+json": {
       "model_id": "1465cae5ff0b4b3ca22f5b0522f8d9d2",
       "version_major": 2,
       "version_minor": 0
      },
      "text/plain": [
       "  0%|          | 0/469 [00:00<?, ?it/s]"
      ]
     },
     "metadata": {},
     "output_type": "display_data"
    },
    {
     "name": "stdout",
     "output_type": "stream",
     "text": [
      "[13       ] Test MSE: 0.003\n"
     ]
    },
    {
     "data": {
      "application/vnd.jupyter.widget-view+json": {
       "model_id": "034b8ee434da4401b6c24da79daa3b96",
       "version_major": 2,
       "version_minor": 0
      },
      "text/plain": [
       "  0%|          | 0/1875 [00:00<?, ?it/s]"
      ]
     },
     "metadata": {},
     "output_type": "display_data"
    },
    {
     "name": "stdout",
     "output_type": "stream",
     "text": [
      "[14,   200] Train batch MSE: 0.003\n",
      "[14,   400] Train batch MSE: 0.003\n",
      "[14,   600] Train batch MSE: 0.002\n",
      "[14,   800] Train batch MSE: 0.004\n",
      "[14,  1000] Train batch MSE: 0.002\n",
      "[14,  1200] Train batch MSE: 0.003\n",
      "[14,  1400] Train batch MSE: 0.002\n",
      "[14,  1600] Train batch MSE: 0.002\n",
      "[14,  1800] Train batch MSE: 0.002\n"
     ]
    },
    {
     "data": {
      "application/vnd.jupyter.widget-view+json": {
       "model_id": "05d87bf6fda14e718e9c1b29bb92ad7a",
       "version_major": 2,
       "version_minor": 0
      },
      "text/plain": [
       "  0%|          | 0/469 [00:00<?, ?it/s]"
      ]
     },
     "metadata": {},
     "output_type": "display_data"
    },
    {
     "name": "stdout",
     "output_type": "stream",
     "text": [
      "[14       ] Test MSE: 0.002\n"
     ]
    },
    {
     "data": {
      "application/vnd.jupyter.widget-view+json": {
       "model_id": "13b436da2bc44b149aa5abaaed82d0f6",
       "version_major": 2,
       "version_minor": 0
      },
      "text/plain": [
       "  0%|          | 0/1875 [00:00<?, ?it/s]"
      ]
     },
     "metadata": {},
     "output_type": "display_data"
    },
    {
     "name": "stdout",
     "output_type": "stream",
     "text": [
      "[15,   200] Train batch MSE: 0.003\n",
      "[15,   400] Train batch MSE: 0.003\n",
      "[15,   600] Train batch MSE: 0.003\n",
      "[15,   800] Train batch MSE: 0.002\n",
      "[15,  1000] Train batch MSE: 0.002\n",
      "[15,  1200] Train batch MSE: 0.002\n",
      "[15,  1400] Train batch MSE: 0.002\n",
      "[15,  1600] Train batch MSE: 0.003\n",
      "[15,  1800] Train batch MSE: 0.003\n"
     ]
    },
    {
     "data": {
      "application/vnd.jupyter.widget-view+json": {
       "model_id": "a9781a5c760543eb9abc960dd00d68e5",
       "version_major": 2,
       "version_minor": 0
      },
      "text/plain": [
       "  0%|          | 0/469 [00:00<?, ?it/s]"
      ]
     },
     "metadata": {},
     "output_type": "display_data"
    },
    {
     "name": "stdout",
     "output_type": "stream",
     "text": [
      "[15       ] Test MSE: 0.002\n"
     ]
    },
    {
     "data": {
      "application/vnd.jupyter.widget-view+json": {
       "model_id": "af730113a0774ff9b67e2fffdf99a29b",
       "version_major": 2,
       "version_minor": 0
      },
      "text/plain": [
       "  0%|          | 0/1875 [00:00<?, ?it/s]"
      ]
     },
     "metadata": {},
     "output_type": "display_data"
    },
    {
     "name": "stdout",
     "output_type": "stream",
     "text": [
      "[16,   200] Train batch MSE: 0.003\n",
      "[16,   400] Train batch MSE: 0.003\n",
      "[16,   600] Train batch MSE: 0.002\n",
      "[16,   800] Train batch MSE: 0.002\n",
      "[16,  1000] Train batch MSE: 0.003\n",
      "[16,  1200] Train batch MSE: 0.002\n",
      "[16,  1400] Train batch MSE: 0.002\n",
      "[16,  1600] Train batch MSE: 0.002\n",
      "[16,  1800] Train batch MSE: 0.002\n"
     ]
    },
    {
     "data": {
      "application/vnd.jupyter.widget-view+json": {
       "model_id": "231a79dcb8f343a0985ac8d77c042831",
       "version_major": 2,
       "version_minor": 0
      },
      "text/plain": [
       "  0%|          | 0/469 [00:00<?, ?it/s]"
      ]
     },
     "metadata": {},
     "output_type": "display_data"
    },
    {
     "name": "stdout",
     "output_type": "stream",
     "text": [
      "[16       ] Test MSE: 0.002\n"
     ]
    },
    {
     "data": {
      "application/vnd.jupyter.widget-view+json": {
       "model_id": "e42e8dfa66e74d8ebcdaf2c10802ea6d",
       "version_major": 2,
       "version_minor": 0
      },
      "text/plain": [
       "  0%|          | 0/1875 [00:00<?, ?it/s]"
      ]
     },
     "metadata": {},
     "output_type": "display_data"
    },
    {
     "name": "stdout",
     "output_type": "stream",
     "text": [
      "[17,   200] Train batch MSE: 0.002\n",
      "[17,   400] Train batch MSE: 0.002\n",
      "[17,   600] Train batch MSE: 0.002\n",
      "[17,   800] Train batch MSE: 0.002\n",
      "[17,  1000] Train batch MSE: 0.003\n",
      "[17,  1200] Train batch MSE: 0.002\n",
      "[17,  1400] Train batch MSE: 0.002\n",
      "[17,  1600] Train batch MSE: 0.002\n",
      "[17,  1800] Train batch MSE: 0.002\n"
     ]
    },
    {
     "data": {
      "application/vnd.jupyter.widget-view+json": {
       "model_id": "ec7baaa56db247678ad88306cbd29fcc",
       "version_major": 2,
       "version_minor": 0
      },
      "text/plain": [
       "  0%|          | 0/469 [00:00<?, ?it/s]"
      ]
     },
     "metadata": {},
     "output_type": "display_data"
    },
    {
     "name": "stdout",
     "output_type": "stream",
     "text": [
      "[17       ] Test MSE: 0.002\n"
     ]
    },
    {
     "data": {
      "application/vnd.jupyter.widget-view+json": {
       "model_id": "69a5dbe49fad452287b13f060c361541",
       "version_major": 2,
       "version_minor": 0
      },
      "text/plain": [
       "  0%|          | 0/1875 [00:00<?, ?it/s]"
      ]
     },
     "metadata": {},
     "output_type": "display_data"
    },
    {
     "name": "stdout",
     "output_type": "stream",
     "text": [
      "[18,   200] Train batch MSE: 0.002\n",
      "[18,   400] Train batch MSE: 0.002\n",
      "[18,   600] Train batch MSE: 0.003\n",
      "[18,   800] Train batch MSE: 0.002\n",
      "[18,  1000] Train batch MSE: 0.002\n",
      "[18,  1200] Train batch MSE: 0.002\n",
      "[18,  1400] Train batch MSE: 0.003\n",
      "[18,  1600] Train batch MSE: 0.003\n",
      "[18,  1800] Train batch MSE: 0.002\n"
     ]
    },
    {
     "data": {
      "application/vnd.jupyter.widget-view+json": {
       "model_id": "0261106230b74d768c381e0805219f69",
       "version_major": 2,
       "version_minor": 0
      },
      "text/plain": [
       "  0%|          | 0/469 [00:00<?, ?it/s]"
      ]
     },
     "metadata": {},
     "output_type": "display_data"
    },
    {
     "name": "stdout",
     "output_type": "stream",
     "text": [
      "[18       ] Test MSE: 0.002\n"
     ]
    },
    {
     "data": {
      "application/vnd.jupyter.widget-view+json": {
       "model_id": "3480e3ddc49e40e0a25ffe03f4194037",
       "version_major": 2,
       "version_minor": 0
      },
      "text/plain": [
       "  0%|          | 0/1875 [00:00<?, ?it/s]"
      ]
     },
     "metadata": {},
     "output_type": "display_data"
    },
    {
     "name": "stdout",
     "output_type": "stream",
     "text": [
      "[19,   200] Train batch MSE: 0.004\n",
      "[19,   400] Train batch MSE: 0.001\n",
      "[19,   600] Train batch MSE: 0.003\n",
      "[19,   800] Train batch MSE: 0.002\n",
      "[19,  1000] Train batch MSE: 0.002\n",
      "[19,  1200] Train batch MSE: 0.002\n",
      "[19,  1400] Train batch MSE: 0.001\n",
      "[19,  1600] Train batch MSE: 0.002\n",
      "[19,  1800] Train batch MSE: 0.002\n"
     ]
    },
    {
     "data": {
      "application/vnd.jupyter.widget-view+json": {
       "model_id": "65ac7a205f124ee6830f8a33b0d7203a",
       "version_major": 2,
       "version_minor": 0
      },
      "text/plain": [
       "  0%|          | 0/469 [00:00<?, ?it/s]"
      ]
     },
     "metadata": {},
     "output_type": "display_data"
    },
    {
     "name": "stdout",
     "output_type": "stream",
     "text": [
      "[19       ] Test MSE: 0.002\n"
     ]
    },
    {
     "data": {
      "application/vnd.jupyter.widget-view+json": {
       "model_id": "4e4a5996ebbf459d801861953bc61ce4",
       "version_major": 2,
       "version_minor": 0
      },
      "text/plain": [
       "  0%|          | 0/1875 [00:00<?, ?it/s]"
      ]
     },
     "metadata": {},
     "output_type": "display_data"
    },
    {
     "name": "stdout",
     "output_type": "stream",
     "text": [
      "[20,   200] Train batch MSE: 0.003\n",
      "[20,   400] Train batch MSE: 0.002\n",
      "[20,   600] Train batch MSE: 0.003\n",
      "[20,   800] Train batch MSE: 0.002\n",
      "[20,  1000] Train batch MSE: 0.002\n",
      "[20,  1200] Train batch MSE: 0.002\n",
      "[20,  1400] Train batch MSE: 0.003\n",
      "[20,  1600] Train batch MSE: 0.002\n",
      "[20,  1800] Train batch MSE: 0.002\n"
     ]
    },
    {
     "data": {
      "application/vnd.jupyter.widget-view+json": {
       "model_id": "1914fd2b608f42268d616e6abc91a996",
       "version_major": 2,
       "version_minor": 0
      },
      "text/plain": [
       "  0%|          | 0/469 [00:00<?, ?it/s]"
      ]
     },
     "metadata": {},
     "output_type": "display_data"
    },
    {
     "name": "stdout",
     "output_type": "stream",
     "text": [
      "[20       ] Test MSE: 0.002\n",
      "Finished Training\n"
     ]
    }
   ],
   "source": [
    "# Tracking performance and managing early stopping\n",
    "early_stopping_best_mse = 2\n",
    "early_stopping_patience = 0\n",
    "early_stopping_best_model = net.state_dict()\n",
    "mse_train = defaultdict(lambda: []) # Store batch mse in lists as {epoch: [mse]}\n",
    "mse_test = []\n",
    "\n",
    "# Evaluate test mse before training\n",
    "mse = evaluate(net, test_dataloader, criterion)\n",
    "mse_test.append(mse)\n",
    "early_stopping_best_mse = mse\n",
    "print('[00       ] Test MSE: {:.3f}'.format(mse))\n",
    "\n",
    "# Train loops\n",
    "for epoch in tqdm(range(20)):  # epochs\n",
    "    for i, data in tqdm(enumerate(train_dataloader), leave=False, total=len(train_dataloader)):\n",
    "        # get the inputs; data is a list of [inputs, labels]\n",
    "        images, labels = data\n",
    "\n",
    "        # zero the parameter gradients\n",
    "        optimizer.zero_grad()\n",
    "\n",
    "        # forward + backward + optimize\n",
    "        outputs = net(images)\n",
    "        loss = criterion(outputs, labels.view(-1, 1))\n",
    "        loss.backward()\n",
    "        optimizer.step()\n",
    "\n",
    "        # print train statistics\n",
    "        mse_train[epoch].append(loss.detach().numpy())\n",
    "        if i % 200 == 199:    # print every 200 mini-batches\n",
    "            print('[{:2d}, {:5d}] Train batch MSE: {:.3f}'.format(\n",
    "                epoch+1, i+1, loss\n",
    "            ))\n",
    "\n",
    "    # Evaluate test MSE and manage early stopping\n",
    "    mse = evaluate(net, test_dataloader, criterion)\n",
    "    mse_test.append(mse)\n",
    "    print('[{:2d}       ] Test MSE: {:.3f}'.format(epoch+1, mse))\n",
    "    if mse < early_stopping_best_mse:\n",
    "        early_stopping_best_mse = mse\n",
    "        early_stopping_best_model = net.state_dict()\n",
    "        early_stopping_patience = 0\n",
    "    else:\n",
    "        if early_stopping_patience >= 2:\n",
    "            print(\"Stopping early because test MSE did not improve for 2 consecutive epochs\")\n",
    "            break\n",
    "        else:\n",
    "            early_stopping_patience += 1\n",
    "    \n",
    "print('Finished Training')"
   ]
  },
  {
   "cell_type": "markdown",
   "metadata": {},
   "source": [
    "### Analysis"
   ]
  },
  {
   "cell_type": "code",
   "execution_count": 9,
   "metadata": {},
   "outputs": [
    {
     "data": {
      "text/plain": [
       "<All keys matched successfully>"
      ]
     },
     "execution_count": 9,
     "metadata": {},
     "output_type": "execute_result"
    }
   ],
   "source": [
    "# Obtain best model and store it\n",
    "torch.save(early_stopping_best_model, 'best_model.pth')\n",
    "net.load_state_dict(early_stopping_best_model)"
   ]
  },
  {
   "cell_type": "code",
   "execution_count": 26,
   "metadata": {},
   "outputs": [
    {
     "data": {
      "image/png": "[encoded data removed]",
      "text/plain": [
       "<Figure size 360x360 with 1 Axes>"
      ]
     },
     "metadata": {
      "needs_background": "light"
     },
     "output_type": "display_data"
    }
   ],
   "source": [
    "# Plot train and test metrics\n",
    "batches_per_epoch = len(mse_train[0])\n",
    "n_epochs = len(mse_train)\n",
    "xs_train = [epoch*batches_per_epoch + batch for epoch in range(n_epochs) for batch in range(batches_per_epoch)]\n",
    "xs_train = np.array(xs_train) // 100 * 100 # accumulate per 100 batches\n",
    "ys_train = np.array([mse for epoch in range(n_epochs) for mse in mse_train[epoch]])\n",
    "xs_test  = [epoch*batches_per_epoch for epoch in range(n_epochs+1)]\n",
    "\n",
    "fig, ax = plt.subplots(figsize=(5,5))\n",
    "sns.lineplot(\n",
    "    x=xs_train,\n",
    "    y=ys_train,\n",
    "    label='Train MSE',\n",
    "    ax=ax\n",
    ")\n",
    "ax.plot(\n",
    "    xs_test,\n",
    "    mse_test,\n",
    "    '-o',\n",
    "    label='Test MSE'\n",
    ")\n",
    "ax.grid()\n",
    "ax.legend()\n",
    "ax.set(\n",
    "    ylabel=\"MSE\",\n",
    "    xlabel='Epoch',\n",
    "    title='Train and test curves',\n",
    "    xticks=xs_test,\n",
    "    xticklabels=range(n_epochs+1),\n",
    "    yscale='log',\n",
    "    xlim=(0,max(xs_test))\n",
    ")\n",
    "plt.tight_layout()\n",
    "plt.show()"
   ]
  },
  {
   "cell_type": "code",
   "execution_count": 18,
   "metadata": {},
   "outputs": [
    {
     "data": {
      "text/plain": [
       "[0.2499338,\n",
       " 0.17884767,\n",
       " 0.013272135,\n",
       " 0.009275006,\n",
       " 0.0065690093,\n",
       " 0.0057406044,\n",
       " 0.004363976,\n",
       " 0.0038360115,\n",
       " 0.0036405434,\n",
       " 0.003312513,\n",
       " 0.0029793966,\n",
       " 0.0028512955,\n",
       " 0.0028214178,\n",
       " 0.0026854954,\n",
       " 0.0024906883,\n",
       " 0.0024422512,\n",
       " 0.0023802626,\n",
       " 0.0022539417,\n",
       " 0.0022071884,\n",
       " 0.002122604,\n",
       " 0.0021187265]"
      ]
     },
     "execution_count": 18,
     "metadata": {},
     "output_type": "execute_result"
    }
   ],
   "source": [
    "mse_test"
   ]
  },
  {
   "cell_type": "code",
   "execution_count": 27,
   "metadata": {},
   "outputs": [
    {
     "data": {
      "text/plain": [
       "(tensor(-0.4833), tensor([-0.4916], grad_fn=<SelectBackward>))"
      ]
     },
     "execution_count": 27,
     "metadata": {},
     "output_type": "execute_result"
    },
    {
     "data": {
      "image/png": "[encoded data removed]",
      "text/plain": [
       "<Figure size 432x288 with 1 Axes>"
      ]
     },
     "metadata": {
      "needs_background": "light"
     },
     "output_type": "display_data"
    }
   ],
   "source": [
    "# Plot example prediction\n",
    "i = 1\n",
    "plt.imshow(images[i].permute((1,2,0)))\n",
    "labels[i], outputs[i]"
   ]
  },
  {
   "cell_type": "code",
   "execution_count": null,
   "metadata": {},
   "outputs": [],
   "source": []
  }
 ],
 "metadata": {
  "interpreter": {
   "hash": "b1d9abf816febde1f5ca2b03c8b40c6810ec3aa7737e8a1e156f23821984c50c"
  },
  "kernelspec": {
   "display_name": "Python 3.8.10 64-bit ('env': venv)",
   "language": "python",
   "name": "python3"
  },
  "language_info": {
   "codemirror_mode": {
    "name": "ipython",
    "version": 3
   },
   "file_extension": ".py",
   "mimetype": "text/x-python",
   "name": "python",
   "nbconvert_exporter": "python",
   "pygments_lexer": "ipython3",
   "version": "3.8.5"
  },
  "orig_nbformat": 4
 },
 "nbformat": 4,
 "nbformat_minor": 2
}
